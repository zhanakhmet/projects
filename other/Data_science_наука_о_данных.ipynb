{
 "cells": [
  {
   "cell_type": "code",
   "execution_count": 3,
   "id": "5fc6b068",
   "metadata": {},
   "outputs": [
    {
     "name": "stdout",
     "output_type": "stream",
     "text": [
      "John Johnson\n",
      "John Johnson\n",
      "John Johnson\n"
     ]
    }
   ],
   "source": [
    "first_name = 'John'\n",
    "last_name = 'Johnson'\n",
    "\n",
    "full_name = first_name + ' ' + last_name\n",
    "print(full_name)\n",
    "\n",
    "full_name = '{0} {1}'.format(first_name, last_name)\n",
    "print(full_name)\n",
    "\n",
    "full_name = f'{first_name} {last_name}' #f строка\n",
    "print(full_name)"
   ]
  },
  {
   "cell_type": "code",
   "execution_count": 4,
   "id": "0ea0d8ea",
   "metadata": {},
   "outputs": [
    {
     "name": "stdout",
     "output_type": "stream",
     "text": [
      "нельзя делить на ноль\n"
     ]
    }
   ],
   "source": [
    "try:\n",
    "    print(0 / 0)\n",
    "except ZeroDivisionError:\n",
    "    print('нельзя делить на ноль')"
   ]
  },
  {
   "cell_type": "code",
   "execution_count": 11,
   "id": "c13fbc81",
   "metadata": {},
   "outputs": [
    {
     "data": {
      "text/plain": [
       "True"
      ]
     },
     "execution_count": 11,
     "metadata": {},
     "output_type": "execute_result"
    }
   ],
   "source": [
    "x = list(range(10))\n",
    "zero = x[0]\n",
    "one = x[1]\n",
    "x[0] = -1\n",
    "x\n",
    "\n",
    "first_three = x[:3]\n",
    "three_to_end = x[3:]\n",
    "one_to_four = x[1:5]\n",
    "last_three = x[-3:]\n",
    "copy_of_x = x[:]\n",
    "copy_of_x\n",
    "\n",
    "every_third = x[::3]\n",
    "every_third\n",
    "\n",
    "1 in [1, 2, 3]"
   ]
  },
  {
   "cell_type": "code",
   "execution_count": 1,
   "id": "c8f9c116",
   "metadata": {},
   "outputs": [
    {
     "data": {
      "text/plain": [
       "[1, 2, 3, 4, 5, 6, 4, 5, 6]"
      ]
     },
     "execution_count": 1,
     "metadata": {},
     "output_type": "execute_result"
    }
   ],
   "source": [
    "x = [1, 2, 3]\n",
    "x.extend([4, 5, 6])\n",
    "\n",
    "y = x + [4, 5, 6]\n",
    "\n",
    "x.append(7)\n",
    "x\n",
    "\n",
    "_, у = [1, 2] # Теперь у равен 2, а первый элемент не нужен\n",
    "y"
   ]
  },
  {
   "cell_type": "code",
   "execution_count": 2,
   "id": "9e6a9f1c",
   "metadata": {},
   "outputs": [
    {
     "data": {
      "text/plain": [
       "15"
      ]
     },
     "execution_count": 2,
     "metadata": {},
     "output_type": "execute_result"
    }
   ],
   "source": [
    "def sum_and_product(x, y):\n",
    "    return (x + y), (x * y)\n",
    "sp = sum_and_product(2, 3)\n",
    "sp\n",
    "s, p = sum_and_product(5, 10)\n",
    "s"
   ]
  },
  {
   "cell_type": "code",
   "execution_count": 31,
   "id": "da406c8b",
   "metadata": {},
   "outputs": [
    {
     "data": {
      "text/plain": [
       "True"
      ]
     },
     "execution_count": 31,
     "metadata": {},
     "output_type": "execute_result"
    }
   ],
   "source": [
    "empty_dict = {} # Задать словарь по-Руthоn'овски \n",
    "empty_dict2 = dict() # Не совсем по-Руthоn'овски \n",
    "grades = {\"Joel\" : 80, \"Tim\" : 95} # Литерал словаря (оценки за экзамены)\n",
    "\n",
    "joels_grade = grades['Joel']\n",
    "joels_grade\n",
    "\n",
    "joe_has_grades = 'Joel' in grades\n",
    "joe_has_grades\n",
    "\n",
    "\n",
    "grades['Tim'] = 100\n",
    "grades['Josh'] = 77\n",
    "grades\n",
    "\n",
    "tweet = { \n",
    "\"user\" : \"joelgrus\", \n",
    "\"text\" : \"Наука о данных - потрясающая тема\", \n",
    "\"retweet_count\" : 100,\n",
    "\"hashtags\" : {\"#data\", \"#science\"}\n",
    "}\n",
    "\n",
    "tweet_keys = tweet.keys () # Итерируемый объект ДЛЯ ключей \n",
    "tweet_values = tweet.values () # Итерируемый объект для значений \n",
    "tweet_iterns = tweet.items() # Итерируемый объект ДЛЯ кортежей \n",
    "# (ключ, значение) \n",
    "\"user\" in tweet_keys # Возвращает True, но не по-Руthоn'овски \n",
    "\"user\" in tweet # Руthоn'овский способ проверки ключа, \n",
    "# используя быстрое in \n",
    "\"joelgrus\" in tweet_values # True (медленно, но единственный способ проверки)"
   ]
  },
  {
   "cell_type": "code",
   "execution_count": 3,
   "id": "c90239d9",
   "metadata": {},
   "outputs": [],
   "source": [
    "word_counts = {}     #1 способ\n",
    "document = {}\n",
    "for word in document:\n",
    "    if word in word_counts:\n",
    "        word_counts[word] += 1\n",
    "    else:\n",
    "        word_counts[word] = 1\n",
    "\n",
    "word_counts = {}       #2 способ\n",
    "for word in document: \n",
    "    previous_count = word_counts.get(word, О) \n",
    "    word_counts[word] = previous_count + 1\n",
    "                \n",
    "from collections import defaultdict    #лучший способ\n",
    "word_counts = defaultdict(int)   # int() возвращает О\n",
    "for word in document:\n",
    "    word_counts += 1"
   ]
  },
  {
   "cell_type": "code",
   "execution_count": 39,
   "id": "13816584",
   "metadata": {},
   "outputs": [
    {
     "data": {
      "text/plain": [
       "defaultdict(list, {2: [1]})"
      ]
     },
     "execution_count": 39,
     "metadata": {},
     "output_type": "execute_result"
    }
   ],
   "source": [
    "from collections import defaultdict\n",
    "x = defaultdict(list)\n",
    "x[2].append(1)\n",
    "x"
   ]
  },
  {
   "cell_type": "code",
   "execution_count": 4,
   "id": "14c40024",
   "metadata": {},
   "outputs": [
    {
     "ename": "TypeError",
     "evalue": "can only concatenate list (not \"str\") to list",
     "output_type": "error",
     "traceback": [
      "\u001b[1;31m---------------------------------------------------------------------------\u001b[0m",
      "\u001b[1;31mTypeError\u001b[0m                                 Traceback (most recent call last)",
      "\u001b[1;32m~\\AppData\\Local\\Temp/ipykernel_18944/1732265440.py\u001b[0m in \u001b[0;36m<module>\u001b[1;34m\u001b[0m\n\u001b[0;32m      1\u001b[0m \u001b[1;31m# Список стоп-слов\u001b[0m\u001b[1;33m\u001b[0m\u001b[1;33m\u001b[0m\u001b[0m\n\u001b[1;32m----> 2\u001b[1;33m \u001b[0mstopwords_list\u001b[0m \u001b[1;33m=\u001b[0m \u001b[1;33m[\u001b[0m\u001b[1;34m\"а\"\u001b[0m\u001b[1;33m,\u001b[0m \u001b[1;34m\"an\"\u001b[0m\u001b[1;33m,\u001b[0m \u001b[1;34m\"at\"\u001b[0m\u001b[1;33m]\u001b[0m \u001b[1;33m+\u001b[0m \u001b[1;34m'hundreds_of_other_words'\u001b[0m \u001b[1;33m+\u001b[0m \u001b[1;33m[\u001b[0m \u001b[1;34m\"yet\"\u001b[0m\u001b[1;33m,\u001b[0m \u001b[1;34m\"you\"\u001b[0m\u001b[1;33m]\u001b[0m\u001b[1;33m\u001b[0m\u001b[1;33m\u001b[0m\u001b[0m\n\u001b[0m\u001b[0;32m      3\u001b[0m \u001b[1;34m\"zip\"\u001b[0m \u001b[1;32min\u001b[0m \u001b[0mstopwords_list\u001b[0m \u001b[1;31m# False, но проверяется каждый элемент\u001b[0m\u001b[1;33m\u001b[0m\u001b[1;33m\u001b[0m\u001b[0m\n\u001b[0;32m      4\u001b[0m \u001b[1;33m\u001b[0m\u001b[0m\n\u001b[0;32m      5\u001b[0m \u001b[1;31m# Множество стоп-слов\u001b[0m\u001b[1;33m\u001b[0m\u001b[1;33m\u001b[0m\u001b[0m\n",
      "\u001b[1;31mTypeError\u001b[0m: can only concatenate list (not \"str\") to list"
     ]
    }
   ],
   "source": [
    "# Список стоп-слов \n",
    "stopwords_list = [\"а\", \"an\", \"at\"] + 'hundreds_of_other_words' + [ \"yet\", \"you\"] \n",
    "\"zip\" in stopwords_list # False, но проверяется каждый элемент \n",
    "\n",
    "# Множество стоп-слов \n",
    "stopwords_set = set(stopwords_list) \n",
    "\"zip\" in stopwords_set # Очень быстрая проверка"
   ]
  },
  {
   "cell_type": "code",
   "execution_count": 46,
   "id": "d98dd2b9",
   "metadata": {},
   "outputs": [
    {
     "name": "stdout",
     "output_type": "stream",
     "text": [
      "6\n",
      "{1, 2, 3}\n",
      "3\n"
     ]
    }
   ],
   "source": [
    "item_list = [1, 2, 3, 1, 2, 3]\n",
    "num_items = len(item_list)\n",
    "print(num_items)\n",
    "item_set = set(item_list)\n",
    "print(item_set)\n",
    "len_item_set = len(item_set)\n",
    "print(len_item_set)"
   ]
  },
  {
   "cell_type": "code",
   "execution_count": 47,
   "id": "3ccbf0e8",
   "metadata": {},
   "outputs": [
    {
     "name": "stdout",
     "output_type": "stream",
     "text": [
      "0\n",
      "1\n",
      "2\n",
      "3\n",
      "4\n",
      "5\n",
      "6\n",
      "7\n",
      "8\n",
      "9\n"
     ]
    }
   ],
   "source": [
    "for x in range(10):\n",
    "    print(x)"
   ]
  },
  {
   "cell_type": "code",
   "execution_count": 48,
   "id": "f953d24a",
   "metadata": {},
   "outputs": [
    {
     "name": "stdout",
     "output_type": "stream",
     "text": [
      "0\n",
      "1\n",
      "2\n",
      "4\n"
     ]
    }
   ],
   "source": [
    "for x in range(10):\n",
    "    if x == 3:\n",
    "        continue\n",
    "    if x == 5:\n",
    "        break\n",
    "    print(x)"
   ]
  },
  {
   "cell_type": "code",
   "execution_count": 60,
   "id": "664b2fe5",
   "metadata": {},
   "outputs": [
    {
     "data": {
      "text/plain": [
       "[0, 0, 0]"
      ]
     },
     "execution_count": 60,
     "metadata": {},
     "output_type": "execute_result"
    }
   ],
   "source": [
    "even_numbers = [x for x in range(5) if x % 2 == 0] #четные числа\n",
    "even_numbers \n",
    "squares = [x * x for x in range(5)]   #квадраты\n",
    "squares\n",
    "\n",
    "square_dict = {x : x * x for x in range(5)}   # Словарь с квадратами чисел\n",
    "square_dict\n",
    "\n",
    "zeroes = [0 for _ in even_numbers] # Имеет ту же длину, что и even_numЬers\n",
    "zeroes"
   ]
  },
  {
   "cell_type": "code",
   "execution_count": 5,
   "id": "a75eb74c",
   "metadata": {},
   "outputs": [
    {
     "ename": "AssertionError",
     "evalue": "",
     "output_type": "error",
     "traceback": [
      "\u001b[1;31m---------------------------------------------------------------------------\u001b[0m",
      "\u001b[1;31mAssertionError\u001b[0m                            Traceback (most recent call last)",
      "\u001b[1;32m~\\AppData\\Local\\Temp/ipykernel_18944/3065706294.py\u001b[0m in \u001b[0;36m<module>\u001b[1;34m\u001b[0m\n\u001b[0;32m      1\u001b[0m \u001b[1;32mdef\u001b[0m \u001b[0msum\u001b[0m\u001b[1;33m(\u001b[0m\u001b[0mx\u001b[0m\u001b[1;33m,\u001b[0m \u001b[0my\u001b[0m\u001b[1;33m)\u001b[0m\u001b[1;33m:\u001b[0m\u001b[1;33m\u001b[0m\u001b[1;33m\u001b[0m\u001b[0m\n\u001b[0;32m      2\u001b[0m     \u001b[1;32mreturn\u001b[0m\u001b[1;33m(\u001b[0m\u001b[0mx\u001b[0m \u001b[1;33m+\u001b[0m \u001b[0my\u001b[0m\u001b[1;33m)\u001b[0m\u001b[1;33m\u001b[0m\u001b[1;33m\u001b[0m\u001b[0m\n\u001b[1;32m----> 3\u001b[1;33m \u001b[1;32massert\u001b[0m \u001b[0mx\u001b[0m \u001b[1;33m==\u001b[0m \u001b[1;36m1\u001b[0m\u001b[1;33m\u001b[0m\u001b[1;33m\u001b[0m\u001b[0m\n\u001b[0m\u001b[0;32m      4\u001b[0m \u001b[0msum\u001b[0m\u001b[1;33m(\u001b[0m\u001b[1;36m1\u001b[0m\u001b[1;33m,\u001b[0m \u001b[1;36m0\u001b[0m\u001b[1;33m)\u001b[0m\u001b[1;33m\u001b[0m\u001b[1;33m\u001b[0m\u001b[0m\n",
      "\u001b[1;31mAssertionError\u001b[0m: "
     ]
    }
   ],
   "source": [
    "def sum(x, y):\n",
    "    return(x + y)\n",
    "assert x == 1\n",
    "sum(1, 0)"
   ]
  },
  {
   "cell_type": "code",
   "execution_count": 68,
   "id": "eadf3150",
   "metadata": {},
   "outputs": [
    {
     "name": "stdout",
     "output_type": "stream",
     "text": [
      "name 0 : Alice\n",
      "name 1 : Bob\n",
      "name 2 : John\n",
      "name 3 : Jerry\n"
     ]
    }
   ],
   "source": [
    "names = ['Alice', 'Bob', 'John', 'Jerry']\n",
    "for i, name in enumerate(names):\n",
    "    print(f'name {i} : {name}')"
   ]
  },
  {
   "cell_type": "code",
   "execution_count": 16,
   "id": "e43d1daf",
   "metadata": {},
   "outputs": [
    {
     "data": {
      "text/plain": [
       "<generator object <genexpr> at 0x0000019DC7E61A50>"
      ]
     },
     "execution_count": 16,
     "metadata": {},
     "output_type": "execute_result"
    }
   ],
   "source": [
    "natural_numbers = []\n",
    "evens = (x for x in natural_numbers if x % 2 ==0)\n",
    "even_squares = (x ** 2 for x in evens)\n",
    "even_squares_ending_in_six = (x for x in even_squares if x % 10 == 6)\n",
    "even_squares_ending_in_six"
   ]
  },
  {
   "cell_type": "code",
   "execution_count": 30,
   "id": "6ad6777b",
   "metadata": {},
   "outputs": [
    {
     "data": {
      "text/plain": [
       "[('a', 1), ('b', 2), ('c', 3)]"
      ]
     },
     "execution_count": 30,
     "metadata": {},
     "output_type": "execute_result"
    }
   ],
   "source": [
    "#zip\n",
    "list1 = ['a', 'b', 'c']\n",
    "list2 = [1, 2, 3]\n",
    "\n",
    "[list3 for list3 in zip(list1, list2)]"
   ]
  },
  {
   "cell_type": "code",
   "execution_count": 3,
   "id": "da54a99e",
   "metadata": {},
   "outputs": [
    {
     "data": {
      "text/plain": [
       "(('а', 'Ь', 'с'), (1, 2, 3))"
      ]
     },
     "execution_count": 3,
     "metadata": {},
     "output_type": "execute_result"
    }
   ],
   "source": [
    "pairs = [('а', 1), ('Ь', 2), ('с', 3)] \n",
    "letters, numbers = zip(*pairs)\n",
    "letters, numbers"
   ]
  },
  {
   "cell_type": "code",
   "execution_count": 14,
   "id": "e954b4a5",
   "metadata": {},
   "outputs": [
    {
     "name": "stdout",
     "output_type": "stream",
     "text": [
      "<function doubler.<locals>.g at 0x00000251B9C62430>\n"
     ]
    }
   ],
   "source": [
    "def doubler(f):\n",
    "    def g(x):\n",
    "        return 2 * f(x)\n",
    "    return g\n",
    "print(doubler(2))"
   ]
  },
  {
   "cell_type": "code",
   "execution_count": 7,
   "id": "86120e81",
   "metadata": {},
   "outputs": [
    {
     "data": {
      "image/png": "[encoded data removed]",
      "text/plain": [
       "<Figure size 432x288 with 1 Axes>"
      ]
     },
     "metadata": {
      "needs_background": "light"
     },
     "output_type": "display_data"
    }
   ],
   "source": [
    "#matplotlib \n",
    "from matplotlib import pyplot as plt\n",
    "years = [2010, 2011, 2012, 2013, 2014, 2015]\n",
    "gdp = [300, 450, 500, 780, 900, 1020]\n",
    "plt.plot(years, gdp, color = 'green', marker = 'o')\n",
    "plt.title('Номинальный ВВП')\n",
    "plt.ylabel('Млрд $')\n",
    "plt.xlabel('Года')\n",
    "plt.show()"
   ]
  },
  {
   "cell_type": "code",
   "execution_count": 20,
   "id": "f6d831a5",
   "metadata": {},
   "outputs": [
    {
     "data": {
      "image/png": "[encoded data removed]",
      "text/plain": [
       "<Figure size 432x288 with 1 Axes>"
      ]
     },
     "metadata": {
      "needs_background": "light"
     },
     "output_type": "display_data"
    }
   ],
   "source": [
    "movies = [\"Энни Холл\", \"Бен-Гур\", \"Касабланка\", \"Ганди\", \"Вестсайд\"]\n",
    "num_oscars = [5, 11, 3, 8, 10]\n",
    "plt.bar(range(len(movies)), num_oscars)\n",
    "plt.title('Мои любимые фильмы')\n",
    "plt.ylabel('Количество наград')\n",
    "plt.xticks(range(len(movies)), movies)\n",
    "plt.show()"
   ]
  },
  {
   "cell_type": "code",
   "execution_count": 29,
   "id": "28f4afbe",
   "metadata": {},
   "outputs": [
    {
     "name": "stderr",
     "output_type": "stream",
     "text": [
      "C:\\Users\\zhana\\AppData\\Local\\Temp/ipykernel_11944/1922431753.py:8: UserWarning: color is redundantly defined by the 'color' keyword argument and the fmt string \"r-\" (-> color='r'). The keyword argument will take precedence.\n",
      "  plt.plot(xs, bias_squared, 'r-', label = 'смещение^2', color = 'blue')\n"
     ]
    },
    {
     "data": {
      "image/png": "[encoded data removed]",
      "text/plain": [
       "<Figure size 432x288 with 1 Axes>"
      ]
     },
     "metadata": {
      "needs_background": "light"
     },
     "output_type": "display_data"
    }
   ],
   "source": [
    "variance = [1, 2, 4, 8, 16, 32, 64, 128, 256]\n",
    "bias_squared = [256, 128, 64, 32, 16, 8, 4, 2, 1]\n",
    "\n",
    "total_error = [x + y for x,y in zip(variance, bias_squared)]\n",
    "xs = [i for i, _ in enumerate(variance)]\n",
    "\n",
    "plt.plot(xs, variance, 'g-', label = 'дисперсия')\n",
    "plt.plot(xs, bias_squared, 'r-', label = 'смещение^2', color = 'blue')\n",
    "plt.plot(xs, total_error, 'r-', label = 'суммарная ошибка')\n",
    "plt.legend(loc=9)\n",
    "plt.xlabel(\"Сложность модели\") \n",
    "plt.title(\"Koмпpoмиcc между смещением и дисперсией\") \n",
    "plt.show()"
   ]
  },
  {
   "cell_type": "code",
   "execution_count": 35,
   "id": "2e762bed",
   "metadata": {},
   "outputs": [
    {
     "data": {
      "image/png": "[encoded data removed]",
      "text/plain": [
       "<Figure size 432x288 with 1 Axes>"
      ]
     },
     "metadata": {
      "needs_background": "light"
     },
     "output_type": "display_data"
    }
   ],
   "source": [
    "friends = [70, 65, 72, 63, 71, 65, 60, 64, 67] # Друзья \n",
    "minutes = [175, 170, 205, 120, 220, 130, 105, 145, 190] # Минуты \n",
    "labels = ['а','b','с','d','е','f','g','h','i'] # Метки\n",
    "\n",
    "plt.scatter(friends, minutes)\n",
    "\n",
    "for label, friend_count, minutes_count in zip(labels, friends, minutes):\n",
    "    plt.annotate(label,\n",
    "                xy = (friend_count, minutes_count),\n",
    "                xytext = (5,-5),\n",
    "                textcoords = 'offset points')\n",
    "plt.title('Чиcлo минут против числа друзей')\n",
    "plt.xlabel('Число друзей')\n",
    "plt.ylabel('Чиcлo минут, проводимых на сайте ежедневно')\n",
    "plt.show()"
   ]
  },
  {
   "cell_type": "code",
   "execution_count": 37,
   "id": "ca86f416",
   "metadata": {},
   "outputs": [],
   "source": [
    "vector = list[float]\n",
    "def add(v:vector, w: vector) -> vector:\n",
    "    print('q')"
   ]
  },
  {
   "cell_type": "code",
   "execution_count": null,
   "id": "16a6537f",
   "metadata": {},
   "outputs": [],
   "source": []
  }
 ],
 "metadata": {
  "kernelspec": {
   "display_name": "Python 3 (ipykernel)",
   "language": "python",
   "name": "python3"
  },
  "language_info": {
   "codemirror_mode": {
    "name": "ipython",
    "version": 3
   },
   "file_extension": ".py",
   "mimetype": "text/x-python",
   "name": "python",
   "nbconvert_exporter": "python",
   "pygments_lexer": "ipython3",
   "version": "3.9.10"
  }
 },
 "nbformat": 4,
 "nbformat_minor": 5
}
